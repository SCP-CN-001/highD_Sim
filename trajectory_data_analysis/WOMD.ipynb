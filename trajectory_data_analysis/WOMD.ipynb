{
 "cells": [
  {
   "cell_type": "markdown",
   "metadata": {},
   "source": [
    "# Waymo Open Motion Data v1.2 Analysis"
   ]
  },
  {
   "cell_type": "markdown",
   "metadata": {},
   "source": [
    "## Brief Introduction to Waymo Open Motion Dataset\n",
    "\n",
    "Waymo Open Motion Dataset is collected by Waymo from six locations: San Francisco, Phoenix, Mountain View, Los Angeles, Detroit, and Seattle. This dataset has \"103,354, 20s 10Hz segments (over 20 million frames)\" in v1.2 version, equivalent to approximately 574 hours of rich driving scenarios. Each segment has its own 3D map data. \n",
    "\n",
    "Waymo has a plan to continue growing the dataset. From v1.0 to 1.2, the motion dataset has removed some object classes and enriched the details of the maps. \n",
    "\n",
    "This repository provides a data sample including less than 5% of the original v1.2 dataset. It also provides a visualized insight into the dataset. For those interested in accessing the complete dataset, please follow this [link](https://waymo.com/open/download/).\n",
    "\n",
    "### Trajectory Types in Waymo Open Motion Dataset v1.2\n",
    "\n",
    "In v1.2, there are only three categories of trajectories:\n",
    "\n",
    "- `vehicle`\n",
    "- `bicycle`\n",
    "- `pedestrian`"
   ]
  },
  {
   "cell_type": "code",
   "execution_count": 1,
   "metadata": {},
   "outputs": [
    {
     "name": "stdout",
     "output_type": "stream",
     "text": [
      "Number of tfrecord files in training: 1000\n",
      "Number of tfrecord files in training_20s: 1000\n",
      "Number of tfrecord files in validation: 150\n",
      "Number of tfrecord files in validation_interactive: 150\n",
      "Number of tfrecord files in testing: 150\n",
      "Number of tfrecord files in testing_interactive: 150\n"
     ]
    }
   ],
   "source": [
    "import os\n",
    "\n",
    "os.environ[\"TF_CPP_MIN_LOG_LEVEL\"] = \"2\"\n",
    "\n",
    "import sys\n",
    "\n",
    "sys.path.append(\".\")\n",
    "\n",
    "import warnings\n",
    "\n",
    "warnings.filterwarnings(\"ignore\")\n",
    "\n",
    "from utils import womd\n",
    "\n",
    "data_path = \"../trajectory/WOMD/waymo_open_dataset_motion_v_1_2_0/uncompressed\"\n",
    "folders = [\n",
    "    \"training\",\n",
    "    \"training_20s\",\n",
    "    \"validation\",\n",
    "    \"validation_interactive\",\n",
    "    \"testing\",\n",
    "    \"testing_interactive\",\n",
    "]\n",
    "tfrecord_file_lists = []\n",
    "tfrecord_file_path_lists = []\n",
    "for folder in folders:\n",
    "    tf_record_file_list = os.listdir(os.path.join(data_path, folder))\n",
    "    print(f\"Number of tfrecord files in {folder}: {len(tf_record_file_list)}\")\n",
    "    tfrecord_file_lists.append(os.listdir(os.path.join(data_path, folder)))\n",
    "    tfrecord_file_path_lists.append(\n",
    "        [os.path.join(data_path, folder, f) for f in tf_record_file_list]\n",
    "    )"
   ]
  },
  {
   "cell_type": "markdown",
   "metadata": {},
   "source": [
    "## Data Analysis\n",
    "\n",
    "### Trajectory Visualization\n",
    "\n",
    "It appears that the trajectory data in the Waymo Open Dataset no longer includes location information. Consequently, analyzing trajectory and speed distribution within this dataset becomes impractical. Additionally, since maps are linked to specific scenario segments, generating a comprehensive map incorporating all data pieces becomes unfeasible. This limitation hinders the ability to create a holistic representation of the complete dataset."
   ]
  },
  {
   "cell_type": "code",
   "execution_count": 2,
   "metadata": {},
   "outputs": [],
   "source": [
    "womd.plot_trajectory(folders[0], tfrecord_file_path_lists[0], proportion=0.03)"
   ]
  },
  {
   "cell_type": "markdown",
   "metadata": {},
   "source": [
    "### Proportion of Trajectory Types\n",
    "\n",
    "Examining the distribution of various trajectory types, it becomes evident that the scenarios in the Waymo Motion dataset are meticulously chosen. This dataset is specifically designed to capture representative downtown and suburban traffic scenarios in America."
   ]
  },
  {
   "cell_type": "code",
   "execution_count": null,
   "metadata": {},
   "outputs": [
    {
     "ename": "",
     "evalue": "",
     "output_type": "error",
     "traceback": [
      "\u001b[1;31mRunning cells with 'tactics2d' requires the ipykernel package.\n",
      "\u001b[1;31mRun the following command to install 'ipykernel' into the Python environment. \n",
      "\u001b[1;31mCommand: 'conda install -n tactics2d ipykernel --update-deps --force-reinstall'"
     ]
    }
   ],
   "source": [
    "womd.plot_class_proportion(folders, tfrecord_file_path_lists)"
   ]
  },
  {
   "cell_type": "markdown",
   "metadata": {},
   "source": [
    "### Mean Speed Distribution"
   ]
  },
  {
   "cell_type": "code",
   "execution_count": null,
   "metadata": {},
   "outputs": [
    {
     "ename": "",
     "evalue": "",
     "output_type": "error",
     "traceback": [
      "\u001b[1;31mRunning cells with 'tactics2d' requires the ipykernel package.\n",
      "\u001b[1;31mRun the following command to install 'ipykernel' into the Python environment. \n",
      "\u001b[1;31mCommand: 'conda install -n tactics2d ipykernel --update-deps --force-reinstall'"
     ]
    }
   ],
   "source": [
    "womd.plot_mean_speed_distribution(folders, tfrecord_file_path_lists, proportion=0.03)"
   ]
  },
  {
   "cell_type": "markdown",
   "metadata": {},
   "source": [
    "### Angle Distribution"
   ]
  },
  {
   "cell_type": "code",
   "execution_count": null,
   "metadata": {},
   "outputs": [
    {
     "ename": "",
     "evalue": "",
     "output_type": "error",
     "traceback": [
      "\u001b[1;31mRunning cells with 'tactics2d' requires the ipykernel package.\n",
      "\u001b[1;31mRun the following command to install 'ipykernel' into the Python environment. \n",
      "\u001b[1;31mCommand: 'conda install -n tactics2d ipykernel --update-deps --force-reinstall'"
     ]
    }
   ],
   "source": [
    "womd.plot_delta_angle_distribution(folders, tfrecord_file_path_lists, proportion=0.03)"
   ]
  },
  {
   "cell_type": "code",
   "execution_count": null,
   "metadata": {},
   "outputs": [
    {
     "ename": "",
     "evalue": "",
     "output_type": "error",
     "traceback": [
      "\u001b[1;31mRunning cells with 'tactics2d' requires the ipykernel package.\n",
      "\u001b[1;31mRun the following command to install 'ipykernel' into the Python environment. \n",
      "\u001b[1;31mCommand: 'conda install -n tactics2d ipykernel --update-deps --force-reinstall'"
     ]
    }
   ],
   "source": []
  }
 ],
 "metadata": {
  "kernelspec": {
   "display_name": "tactics2d",
   "language": "python",
   "name": "python3"
  },
  "language_info": {
   "codemirror_mode": {
    "name": "ipython",
    "version": 3
   },
   "file_extension": ".py",
   "mimetype": "text/x-python",
   "name": "python",
   "nbconvert_exporter": "python",
   "pygments_lexer": "ipython3",
   "version": "3.8.0"
  }
 },
 "nbformat": 4,
 "nbformat_minor": 2
}
